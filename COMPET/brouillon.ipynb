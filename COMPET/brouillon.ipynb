{
 "cells": [
  {
   "cell_type": "code",
   "execution_count": 3,
   "metadata": {},
   "outputs": [],
   "source": [
    "import numpy as np"
   ]
  },
  {
   "cell_type": "code",
   "execution_count": 13,
   "metadata": {},
   "outputs": [],
   "source": [
    "global_time = 0\n",
    "\n",
    "\n",
    "def read_rides(filename):\n",
    "    with open(filename, \"r\") as file:\n",
    "        param = file.readline().replace(\"\\n\", \"\").split(\" \")\n",
    "        r = int(param[0])\n",
    "        c = int(param[1])\n",
    "        f = int(param[2])\n",
    "        n = int(param[3])\n",
    "        b = int(param[4])\n",
    "        t = int(param[5])\n",
    "\n",
    "        rides = []\n",
    "        for line in file:\n",
    "            rides += [line.replace(\"\\n\", \"\").split(\" \")]\n",
    "\n",
    "    return param, rides\n",
    "\n",
    "\n",
    "def distance(ax, ay, bx, by):\n",
    "    return np.abs(ax - bx) + np.abs(ay - by)\n",
    "\n",
    "\n",
    "class Car:\n",
    "\n",
    "    def __init__(self, ride, B):\n",
    "        self.ride = ride\n",
    "\n",
    "        self.pos_x = 0\n",
    "        self.pos_y = 0\n",
    "\n",
    "        self.ax = int(ride[0])\n",
    "        self.ay = int(ride[1])\n",
    "        self.bx = int(ride[2])\n",
    "        self.by = int(ride[3])\n",
    "        self.t_start = int(ride[4])\n",
    "        self.t_finish = int(ride[5])\n",
    "        self.start_on_time_bonus = int(B)\n",
    "\n",
    "        self.remaining_distance = distance(self.pos_x, self.pos_y, self.bx, self.by)\n",
    "        self.distance_to_pickup = distance(self.pos_x, self.pos_y, self.ax, self.ay)\n",
    "\n",
    "        self.status = \"WAITING\"\n",
    "\n",
    "    def go_to_client(self):\n",
    "        if self.pos_x < self.ax:\n",
    "            self.pos_x += 1\n",
    "            self.status = \"GOING_TO_CLIENT\"\n",
    "        elif self.pos_y < self.ay:\n",
    "            self.pos_y += 1\n",
    "            self.status = \"GOING_TO_CLIENT\"\n",
    "        if self.pos_x == self.ax and self.pos_y == self.ay:\n",
    "            self.status = \"ARRIVED!\"\n",
    "\n",
    "    def go_to_destination(self):\n",
    "        if self.pos_x < self.bx and global_time >= self.t_start:\n",
    "            self.pos_x += 1\n",
    "            self.status = \"GOING_TO_CLIENT\"\n",
    "        elif self.pos_y < self.by and global_time >= self.t_start:\n",
    "            self.pos_y += 1\n",
    "            self.status = \"GOING_TO_CLIENT\"\n",
    "        if self.pos_x == self.bx and self.pos_y == self.by:\n",
    "            self.status = \"ARRIVED!\"\n",
    "\n",
    "    def step(self):\n",
    "\n",
    "        if self.status == \"WAITING\":\n",
    "            self.go_to_client()\n",
    "        elif self.status == \"TAKING_CLIENT\":\n",
    "            self.go_to_destination()\n",
    "        elif self.status == \"GOING_TO_CLIENT\":\n",
    "            self.go_to_client()\n",
    "\n",
    "        if self.status == \"ARRIVED!\":\n",
    "            self.status = \"WAITING\"\n",
    "\n",
    "        return self.status\n"
   ]
  },
  {
   "cell_type": "code",
   "execution_count": 5,
   "metadata": {},
   "outputs": [],
   "source": [
    "dataset_file = \"a_example.in\""
   ]
  },
  {
   "cell_type": "code",
   "execution_count": 66,
   "metadata": {},
   "outputs": [],
   "source": [
    "(rows, columns, nb_cars, nb_rides, bonus_per_ride, nb_sim_steps), rides = read_rides(dataset_file)"
   ]
  },
  {
   "cell_type": "code",
   "execution_count": 67,
   "metadata": {},
   "outputs": [
    {
     "data": {
      "text/plain": [
       "[['0', '0', '1', '3', '2', '9'],\n",
       " ['1', '2', '1', '0', '0', '9'],\n",
       " ['2', '0', '2', '2', '0', '9']]"
      ]
     },
     "execution_count": 67,
     "metadata": {},
     "output_type": "execute_result"
    }
   ],
   "source": [
    "rides"
   ]
  },
  {
   "cell_type": "code",
   "execution_count": 68,
   "metadata": {},
   "outputs": [],
   "source": [
    "all_cars = []\n",
    "assignments = []\n",
    "rides_counter = 0\n",
    "for n in range(int(nb_cars)):\n",
    "    all_cars += [Car(rides[0], bonus_per_ride)]\n",
    "    assignments += [[1, n]]\n",
    "    rides.pop(0)\n",
    "    rides_counter += 1"
   ]
  },
  {
   "cell_type": "code",
   "execution_count": 64,
   "metadata": {},
   "outputs": [],
   "source": [
    "assignments[0][0] += 1\n",
    "assignments[0].append(rides_counter)"
   ]
  },
  {
   "cell_type": "code",
   "execution_count": 69,
   "metadata": {},
   "outputs": [
    {
     "data": {
      "text/plain": [
       "[[1, 0], [1, 1]]"
      ]
     },
     "execution_count": 69,
     "metadata": {},
     "output_type": "execute_result"
    }
   ],
   "source": [
    "assignments"
   ]
  },
  {
   "cell_type": "code",
   "execution_count": null,
   "metadata": {},
   "outputs": [],
   "source": []
  }
 ],
 "metadata": {
  "anaconda-cloud": {},
  "kernelspec": {
   "display_name": "Python [conda env:anaconda]",
   "language": "python",
   "name": "conda-env-anaconda-py"
  },
  "language_info": {
   "codemirror_mode": {
    "name": "ipython",
    "version": 3
   },
   "file_extension": ".py",
   "mimetype": "text/x-python",
   "name": "python",
   "nbconvert_exporter": "python",
   "pygments_lexer": "ipython3",
   "version": "3.5.2"
  }
 },
 "nbformat": 4,
 "nbformat_minor": 1
}
